{
 "cells": [
  {
   "cell_type": "code",
   "execution_count": 1,
   "id": "f5dedb4d",
   "metadata": {},
   "outputs": [],
   "source": [
    "import numpy as np\n",
    "from numpy.random import default_rng\n",
    "import pandas as pd\n",
    "from make_standings import Standings\n",
    "from make_charts import make_playoff_charts, make_win_charts\n",
    "from itertools import permutations\n",
    "import time\n",
    "import base64"
   ]
  },
  {
   "cell_type": "code",
   "execution_count": 2,
   "id": "fee7a408",
   "metadata": {},
   "outputs": [],
   "source": [
    "df = pd.read_csv(\"schedules/schedule21.csv\")\n",
    "pr_both = pd.read_csv(\"data/pr_both.csv\",squeeze=True,index_col=\"Side\")\n",
    "div_series = pd.read_csv(\"data/divisions.csv\",squeeze=True,index_col=0)\n",
    "teams = sorted(list(set(df.team_home)))\n",
    "conf_teams = {}\n",
    "for conf in [\"AFC\",\"NFC\"]:\n",
    "    conf_teams[conf] = [t for t in teams if div_series[t][:3]==conf]\n",
    "rng = np.random.default_rng()"
   ]
  },
  {
   "cell_type": "code",
   "execution_count": 3,
   "id": "536f9e6e",
   "metadata": {},
   "outputs": [
    {
     "data": {
      "text/plain": [
       "True"
      ]
     },
     "execution_count": 3,
     "metadata": {},
     "output_type": "execute_result"
    }
   ],
   "source": [
    "\"ARI_Off\" in pr_both.keys()"
   ]
  },
  {
   "cell_type": "code",
   "execution_count": 4,
   "id": "3956f62a",
   "metadata": {},
   "outputs": [
    {
     "data": {
      "text/plain": [
       "Index(['ARI_Off', 'ATL_Off', 'BAL_Off', 'BUF_Off', 'CAR_Off', 'CHI_Off',\n",
       "       'CIN_Off', 'CLE_Off', 'DAL_Off', 'DEN_Off', 'DET_Off', 'GB_Off',\n",
       "       'HOU_Off', 'IND_Off', 'JAX_Off', 'KC_Off', 'LAC_Off', 'LAR_Off',\n",
       "       'LVR_Off', 'MIA_Off', 'MIN_Off', 'NE_Off', 'NO_Off', 'NYG_Off',\n",
       "       'NYJ_Off', 'PHI_Off', 'PIT_Off', 'SEA_Off', 'SF_Off', 'TB_Off',\n",
       "       'TEN_Off', 'WAS_Off', 'ARI_Def', 'ATL_Def', 'BAL_Def', 'BUF_Def',\n",
       "       'CAR_Def', 'CHI_Def', 'CIN_Def', 'CLE_Def', 'DAL_Def', 'DEN_Def',\n",
       "       'DET_Def', 'GB_Def', 'HOU_Def', 'IND_Def', 'JAX_Def', 'KC_Def',\n",
       "       'LAC_Def', 'LAR_Def', 'LVR_Def', 'MIA_Def', 'MIN_Def', 'NE_Def',\n",
       "       'NO_Def', 'NYG_Def', 'NYJ_Def', 'PHI_Def', 'PIT_Def', 'SEA_Def',\n",
       "       'SF_Def', 'TB_Def', 'TEN_Def', 'WAS_Def', 'HFA', 'mean_score'],\n",
       "      dtype='object', name='Side')"
      ]
     },
     "execution_count": 4,
     "metadata": {},
     "output_type": "execute_result"
    }
   ],
   "source": [
    "pr_both.keys()"
   ]
  },
  {
   "cell_type": "code",
   "execution_count": 5,
   "id": "a8c74817",
   "metadata": {},
   "outputs": [
    {
     "data": {
      "text/plain": [
       "ARI     NFC West\n",
       "ATL    NFC South\n",
       "BAL    AFC North\n",
       "BUF     AFC East\n",
       "CAR    NFC South\n",
       "CHI    NFC North\n",
       "CIN    AFC North\n",
       "CLE    AFC North\n",
       "DAL     NFC East\n",
       "DEN     AFC West\n",
       "DET    NFC North\n",
       "GB     NFC North\n",
       "HOU    AFC South\n",
       "IND    AFC South\n",
       "JAX    AFC South\n",
       "KC      AFC West\n",
       "LAC     AFC West\n",
       "LAR     NFC West\n",
       "LVR     AFC West\n",
       "MIA     AFC East\n",
       "MIN    NFC North\n",
       "NE      AFC East\n",
       "NO     NFC South\n",
       "NYG     NFC East\n",
       "NYJ     AFC East\n",
       "PHI     NFC East\n",
       "PIT    AFC North\n",
       "SEA     NFC West\n",
       "SF      NFC West\n",
       "TB     NFC South\n",
       "TEN    AFC South\n",
       "WAS     NFC East\n",
       "Name: 0, dtype: object"
      ]
     },
     "execution_count": 5,
     "metadata": {},
     "output_type": "execute_result"
    }
   ],
   "source": [
    "div_series"
   ]
  },
  {
   "cell_type": "code",
   "execution_count": 6,
   "id": "c37dfe6e",
   "metadata": {},
   "outputs": [],
   "source": [
    "def simulate_reg_season(df):\n",
    "    df.loc[:,[\"score_home\",\"score_away\"]] = rng.normal(df[[\"mean_home\",\"mean_away\"]],10)\n",
    "    df.loc[:,[\"score_home\",\"score_away\"]] = df.loc[:,[\"score_home\",\"score_away\"]].astype(int)\n",
    "    adjust_ties(df)\n",
    "    return None\n",
    "\n",
    "def adjust_ties(df):\n",
    "    tied_games = df.loc[df.score_home == df.score_away,[\"score_home\",\"score_away\"]].copy()\n",
    "    x = rng.normal(size=len(tied_games))\n",
    "    tied_games.iloc[np.where((x > -1.6) & (x < 0))[0]] += (0,3)\n",
    "    tied_games.iloc[np.where(x >= 0)[0]] += (3,0)\n",
    "    df.loc[tied_games.index,[\"score_home\",\"score_away\"]] = tied_games\n",
    "    return None"
   ]
  },
  {
   "cell_type": "code",
   "execution_count": 7,
   "id": "e805937b",
   "metadata": {},
   "outputs": [],
   "source": [
    "df[\"pr_home_Off\"] = df.team_home.map(lambda s: pr_both[s+\"_Off\"])\n",
    "df[\"pr_home_Def\"] = df.team_home.map(lambda s: pr_both[s+\"_Def\"])\n",
    "df[\"pr_away_Off\"] = df.team_away.map(lambda s: pr_both[s+\"_Off\"])\n",
    "df[\"pr_away_Def\"] = df.team_away.map(lambda s: pr_both[s+\"_Def\"])\n",
    "df[\"mean_home\"] = df[\"pr_home_Off\"]-df[\"pr_away_Def\"]+pr_both[\"mean_score\"]+pr_both[\"HFA\"]/2\n",
    "df[\"mean_away\"] = df[\"pr_away_Off\"]-df[\"pr_home_Def\"]+pr_both[\"mean_score\"]-pr_both[\"HFA\"]/2"
   ]
  },
  {
   "cell_type": "code",
   "execution_count": 8,
   "id": "86ed2848",
   "metadata": {},
   "outputs": [],
   "source": [
    "total_dict = {}\n",
    "\n",
    "win_dict = {t:{i:0 for i in range(18)} for t in teams}\n",
    "for conf in [\"AFC\",\"NFC\"]:\n",
    "    total_dict[conf] = {i:{t:0 for t in sorted(conf_teams[conf])} for i in range(1,8)}"
   ]
  },
  {
   "cell_type": "code",
   "execution_count": 9,
   "id": "a40cbbfa",
   "metadata": {},
   "outputs": [],
   "source": [
    "div_dict = {}\n",
    "\n",
    "s = div_series\n",
    "for a,b in s.groupby(s):\n",
    "    div_dict[a] = list(b.index)\n",
    "\n",
    "rank_dict = {div:{} for div in div_dict.keys()}\n",
    "\n",
    "for div in rank_dict.keys():\n",
    "    for team_sort in permutations(div_dict[div]):\n",
    "        rank_dict[div][team_sort] = 0"
   ]
  },
  {
   "cell_type": "code",
   "execution_count": 10,
   "id": "72162c2b",
   "metadata": {},
   "outputs": [],
   "source": [
    "reps = 30\n",
    "\n",
    "start = time.time()\n",
    "\n",
    "for i in range(reps):\n",
    "    simulate_reg_season(df)\n",
    "    stand = Standings(df)\n",
    "    s = stand.standings\n",
    "    s_dict = dict(zip(s.index,s.Wins))\n",
    "    for t,w in s_dict.items():\n",
    "        win_dict[t][w] += 1\n",
    "    for d in rank_dict.keys():\n",
    "        rank_dict[d][tuple(stand.div_ranks[d])] += 1\n",
    "    p = stand.playoffs\n",
    "    for conf in [\"AFC\",\"NFC\"]:\n",
    "        for j,t in enumerate(p[conf]):\n",
    "            total_dict[conf][j+1][t] += 1\n",
    "\n",
    "end = time.time()"
   ]
  },
  {
   "cell_type": "code",
   "execution_count": 11,
   "id": "81e45652",
   "metadata": {},
   "outputs": [
    {
     "data": {
      "text/plain": [
       "{'AFC East': ['BUF', 'MIA', 'NE', 'NYJ'],\n",
       " 'AFC North': ['CLE', 'BAL', 'PIT', 'CIN'],\n",
       " 'AFC South': ['IND', 'HOU', 'JAX', 'TEN'],\n",
       " 'AFC West': ['LAC', 'KC', 'DEN', 'LVR'],\n",
       " 'NFC East': ['DAL', 'WAS', 'NYG', 'PHI'],\n",
       " 'NFC North': ['MIN', 'CHI', 'DET', 'GB'],\n",
       " 'NFC South': ['TB', 'CAR', 'NO', 'ATL'],\n",
       " 'NFC West': ['LAR', 'SF', 'ARI', 'SEA']}"
      ]
     },
     "execution_count": 11,
     "metadata": {},
     "output_type": "execute_result"
    }
   ],
   "source": [
    "stand.div_ranks"
   ]
  },
  {
   "cell_type": "code",
   "execution_count": 12,
   "id": "e8f01475",
   "metadata": {},
   "outputs": [],
   "source": [
    "\n",
    "            \n",
    "for div in stand.div_ranks.keys():\n",
    "            rank_dict[div][tuple(stand.div_ranks[div])] += 1"
   ]
  },
  {
   "cell_type": "code",
   "execution_count": 13,
   "id": "63ab950b",
   "metadata": {},
   "outputs": [
    {
     "data": {
      "text/plain": [
       "{'AFC East': {('BUF', 'MIA', 'NE', 'NYJ'): 7,\n",
       "  ('BUF', 'MIA', 'NYJ', 'NE'): 1,\n",
       "  ('BUF', 'NE', 'MIA', 'NYJ'): 3,\n",
       "  ('BUF', 'NE', 'NYJ', 'MIA'): 8,\n",
       "  ('BUF', 'NYJ', 'MIA', 'NE'): 1,\n",
       "  ('BUF', 'NYJ', 'NE', 'MIA'): 1,\n",
       "  ('MIA', 'BUF', 'NE', 'NYJ'): 1,\n",
       "  ('MIA', 'BUF', 'NYJ', 'NE'): 0,\n",
       "  ('MIA', 'NE', 'BUF', 'NYJ'): 2,\n",
       "  ('MIA', 'NE', 'NYJ', 'BUF'): 0,\n",
       "  ('MIA', 'NYJ', 'BUF', 'NE'): 2,\n",
       "  ('MIA', 'NYJ', 'NE', 'BUF'): 0,\n",
       "  ('NE', 'BUF', 'MIA', 'NYJ'): 3,\n",
       "  ('NE', 'BUF', 'NYJ', 'MIA'): 0,\n",
       "  ('NE', 'MIA', 'BUF', 'NYJ'): 0,\n",
       "  ('NE', 'MIA', 'NYJ', 'BUF'): 0,\n",
       "  ('NE', 'NYJ', 'BUF', 'MIA'): 2,\n",
       "  ('NE', 'NYJ', 'MIA', 'BUF'): 0,\n",
       "  ('NYJ', 'BUF', 'MIA', 'NE'): 0,\n",
       "  ('NYJ', 'BUF', 'NE', 'MIA'): 0,\n",
       "  ('NYJ', 'MIA', 'BUF', 'NE'): 0,\n",
       "  ('NYJ', 'MIA', 'NE', 'BUF'): 0,\n",
       "  ('NYJ', 'NE', 'BUF', 'MIA'): 0,\n",
       "  ('NYJ', 'NE', 'MIA', 'BUF'): 0},\n",
       " 'AFC North': {('BAL', 'CIN', 'CLE', 'PIT'): 1,\n",
       "  ('BAL', 'CIN', 'PIT', 'CLE'): 2,\n",
       "  ('BAL', 'CLE', 'CIN', 'PIT'): 2,\n",
       "  ('BAL', 'CLE', 'PIT', 'CIN'): 6,\n",
       "  ('BAL', 'PIT', 'CIN', 'CLE'): 0,\n",
       "  ('BAL', 'PIT', 'CLE', 'CIN'): 1,\n",
       "  ('CIN', 'BAL', 'CLE', 'PIT'): 0,\n",
       "  ('CIN', 'BAL', 'PIT', 'CLE'): 0,\n",
       "  ('CIN', 'CLE', 'BAL', 'PIT'): 1,\n",
       "  ('CIN', 'CLE', 'PIT', 'BAL'): 0,\n",
       "  ('CIN', 'PIT', 'BAL', 'CLE'): 0,\n",
       "  ('CIN', 'PIT', 'CLE', 'BAL'): 0,\n",
       "  ('CLE', 'BAL', 'CIN', 'PIT'): 3,\n",
       "  ('CLE', 'BAL', 'PIT', 'CIN'): 6,\n",
       "  ('CLE', 'CIN', 'BAL', 'PIT'): 1,\n",
       "  ('CLE', 'CIN', 'PIT', 'BAL'): 0,\n",
       "  ('CLE', 'PIT', 'BAL', 'CIN'): 2,\n",
       "  ('CLE', 'PIT', 'CIN', 'BAL'): 1,\n",
       "  ('PIT', 'BAL', 'CIN', 'CLE'): 0,\n",
       "  ('PIT', 'BAL', 'CLE', 'CIN'): 3,\n",
       "  ('PIT', 'CIN', 'BAL', 'CLE'): 0,\n",
       "  ('PIT', 'CIN', 'CLE', 'BAL'): 0,\n",
       "  ('PIT', 'CLE', 'BAL', 'CIN'): 1,\n",
       "  ('PIT', 'CLE', 'CIN', 'BAL'): 1},\n",
       " 'AFC South': {('HOU', 'IND', 'JAX', 'TEN'): 0,\n",
       "  ('HOU', 'IND', 'TEN', 'JAX'): 0,\n",
       "  ('HOU', 'JAX', 'IND', 'TEN'): 0,\n",
       "  ('HOU', 'JAX', 'TEN', 'IND'): 0,\n",
       "  ('HOU', 'TEN', 'IND', 'JAX'): 0,\n",
       "  ('HOU', 'TEN', 'JAX', 'IND'): 0,\n",
       "  ('IND', 'HOU', 'JAX', 'TEN'): 2,\n",
       "  ('IND', 'HOU', 'TEN', 'JAX'): 1,\n",
       "  ('IND', 'JAX', 'HOU', 'TEN'): 1,\n",
       "  ('IND', 'JAX', 'TEN', 'HOU'): 4,\n",
       "  ('IND', 'TEN', 'HOU', 'JAX'): 4,\n",
       "  ('IND', 'TEN', 'JAX', 'HOU'): 8,\n",
       "  ('JAX', 'HOU', 'IND', 'TEN'): 0,\n",
       "  ('JAX', 'HOU', 'TEN', 'IND'): 0,\n",
       "  ('JAX', 'IND', 'HOU', 'TEN'): 0,\n",
       "  ('JAX', 'IND', 'TEN', 'HOU'): 1,\n",
       "  ('JAX', 'TEN', 'HOU', 'IND'): 0,\n",
       "  ('JAX', 'TEN', 'IND', 'HOU'): 1,\n",
       "  ('TEN', 'HOU', 'IND', 'JAX'): 0,\n",
       "  ('TEN', 'HOU', 'JAX', 'IND'): 0,\n",
       "  ('TEN', 'IND', 'HOU', 'JAX'): 1,\n",
       "  ('TEN', 'IND', 'JAX', 'HOU'): 7,\n",
       "  ('TEN', 'JAX', 'HOU', 'IND'): 0,\n",
       "  ('TEN', 'JAX', 'IND', 'HOU'): 1},\n",
       " 'AFC West': {('DEN', 'KC', 'LAC', 'LVR'): 1,\n",
       "  ('DEN', 'KC', 'LVR', 'LAC'): 0,\n",
       "  ('DEN', 'LAC', 'KC', 'LVR'): 0,\n",
       "  ('DEN', 'LAC', 'LVR', 'KC'): 0,\n",
       "  ('DEN', 'LVR', 'KC', 'LAC'): 1,\n",
       "  ('DEN', 'LVR', 'LAC', 'KC'): 0,\n",
       "  ('KC', 'DEN', 'LAC', 'LVR'): 6,\n",
       "  ('KC', 'DEN', 'LVR', 'LAC'): 1,\n",
       "  ('KC', 'LAC', 'DEN', 'LVR'): 3,\n",
       "  ('KC', 'LAC', 'LVR', 'DEN'): 3,\n",
       "  ('KC', 'LVR', 'DEN', 'LAC'): 5,\n",
       "  ('KC', 'LVR', 'LAC', 'DEN'): 3,\n",
       "  ('LAC', 'DEN', 'KC', 'LVR'): 1,\n",
       "  ('LAC', 'DEN', 'LVR', 'KC'): 0,\n",
       "  ('LAC', 'KC', 'DEN', 'LVR'): 4,\n",
       "  ('LAC', 'KC', 'LVR', 'DEN'): 1,\n",
       "  ('LAC', 'LVR', 'DEN', 'KC'): 0,\n",
       "  ('LAC', 'LVR', 'KC', 'DEN'): 0,\n",
       "  ('LVR', 'DEN', 'KC', 'LAC'): 0,\n",
       "  ('LVR', 'DEN', 'LAC', 'KC'): 0,\n",
       "  ('LVR', 'KC', 'DEN', 'LAC'): 2,\n",
       "  ('LVR', 'KC', 'LAC', 'DEN'): 0,\n",
       "  ('LVR', 'LAC', 'DEN', 'KC'): 0,\n",
       "  ('LVR', 'LAC', 'KC', 'DEN'): 0},\n",
       " 'NFC East': {('DAL', 'NYG', 'PHI', 'WAS'): 6,\n",
       "  ('DAL', 'NYG', 'WAS', 'PHI'): 2,\n",
       "  ('DAL', 'PHI', 'NYG', 'WAS'): 1,\n",
       "  ('DAL', 'PHI', 'WAS', 'NYG'): 1,\n",
       "  ('DAL', 'WAS', 'NYG', 'PHI'): 5,\n",
       "  ('DAL', 'WAS', 'PHI', 'NYG'): 3,\n",
       "  ('NYG', 'DAL', 'PHI', 'WAS'): 1,\n",
       "  ('NYG', 'DAL', 'WAS', 'PHI'): 1,\n",
       "  ('NYG', 'PHI', 'DAL', 'WAS'): 0,\n",
       "  ('NYG', 'PHI', 'WAS', 'DAL'): 0,\n",
       "  ('NYG', 'WAS', 'DAL', 'PHI'): 0,\n",
       "  ('NYG', 'WAS', 'PHI', 'DAL'): 0,\n",
       "  ('PHI', 'DAL', 'NYG', 'WAS'): 2,\n",
       "  ('PHI', 'DAL', 'WAS', 'NYG'): 0,\n",
       "  ('PHI', 'NYG', 'DAL', 'WAS'): 1,\n",
       "  ('PHI', 'NYG', 'WAS', 'DAL'): 0,\n",
       "  ('PHI', 'WAS', 'DAL', 'NYG'): 2,\n",
       "  ('PHI', 'WAS', 'NYG', 'DAL'): 0,\n",
       "  ('WAS', 'DAL', 'NYG', 'PHI'): 4,\n",
       "  ('WAS', 'DAL', 'PHI', 'NYG'): 1,\n",
       "  ('WAS', 'NYG', 'DAL', 'PHI'): 0,\n",
       "  ('WAS', 'NYG', 'PHI', 'DAL'): 0,\n",
       "  ('WAS', 'PHI', 'DAL', 'NYG'): 1,\n",
       "  ('WAS', 'PHI', 'NYG', 'DAL'): 0},\n",
       " 'NFC North': {('CHI', 'DET', 'GB', 'MIN'): 0,\n",
       "  ('CHI', 'DET', 'MIN', 'GB'): 0,\n",
       "  ('CHI', 'GB', 'DET', 'MIN'): 0,\n",
       "  ('CHI', 'GB', 'MIN', 'DET'): 3,\n",
       "  ('CHI', 'MIN', 'DET', 'GB'): 1,\n",
       "  ('CHI', 'MIN', 'GB', 'DET'): 1,\n",
       "  ('DET', 'CHI', 'GB', 'MIN'): 0,\n",
       "  ('DET', 'CHI', 'MIN', 'GB'): 0,\n",
       "  ('DET', 'GB', 'CHI', 'MIN'): 0,\n",
       "  ('DET', 'GB', 'MIN', 'CHI'): 0,\n",
       "  ('DET', 'MIN', 'CHI', 'GB'): 0,\n",
       "  ('DET', 'MIN', 'GB', 'CHI'): 1,\n",
       "  ('GB', 'CHI', 'DET', 'MIN'): 1,\n",
       "  ('GB', 'CHI', 'MIN', 'DET'): 2,\n",
       "  ('GB', 'DET', 'CHI', 'MIN'): 0,\n",
       "  ('GB', 'DET', 'MIN', 'CHI'): 0,\n",
       "  ('GB', 'MIN', 'CHI', 'DET'): 6,\n",
       "  ('GB', 'MIN', 'DET', 'CHI'): 1,\n",
       "  ('MIN', 'CHI', 'DET', 'GB'): 3,\n",
       "  ('MIN', 'CHI', 'GB', 'DET'): 3,\n",
       "  ('MIN', 'DET', 'CHI', 'GB'): 1,\n",
       "  ('MIN', 'DET', 'GB', 'CHI'): 0,\n",
       "  ('MIN', 'GB', 'CHI', 'DET'): 6,\n",
       "  ('MIN', 'GB', 'DET', 'CHI'): 2},\n",
       " 'NFC South': {('ATL', 'CAR', 'NO', 'TB'): 0,\n",
       "  ('ATL', 'CAR', 'TB', 'NO'): 0,\n",
       "  ('ATL', 'NO', 'CAR', 'TB'): 0,\n",
       "  ('ATL', 'NO', 'TB', 'CAR'): 0,\n",
       "  ('ATL', 'TB', 'CAR', 'NO'): 0,\n",
       "  ('ATL', 'TB', 'NO', 'CAR'): 1,\n",
       "  ('CAR', 'ATL', 'NO', 'TB'): 0,\n",
       "  ('CAR', 'ATL', 'TB', 'NO'): 0,\n",
       "  ('CAR', 'NO', 'ATL', 'TB'): 0,\n",
       "  ('CAR', 'NO', 'TB', 'ATL'): 0,\n",
       "  ('CAR', 'TB', 'ATL', 'NO'): 0,\n",
       "  ('CAR', 'TB', 'NO', 'ATL'): 0,\n",
       "  ('NO', 'ATL', 'CAR', 'TB'): 0,\n",
       "  ('NO', 'ATL', 'TB', 'CAR'): 1,\n",
       "  ('NO', 'CAR', 'ATL', 'TB'): 0,\n",
       "  ('NO', 'CAR', 'TB', 'ATL'): 0,\n",
       "  ('NO', 'TB', 'ATL', 'CAR'): 1,\n",
       "  ('NO', 'TB', 'CAR', 'ATL'): 1,\n",
       "  ('TB', 'ATL', 'CAR', 'NO'): 2,\n",
       "  ('TB', 'ATL', 'NO', 'CAR'): 4,\n",
       "  ('TB', 'CAR', 'ATL', 'NO'): 2,\n",
       "  ('TB', 'CAR', 'NO', 'ATL'): 9,\n",
       "  ('TB', 'NO', 'ATL', 'CAR'): 5,\n",
       "  ('TB', 'NO', 'CAR', 'ATL'): 5},\n",
       " 'NFC West': {('ARI', 'LAR', 'SEA', 'SF'): 0,\n",
       "  ('ARI', 'LAR', 'SF', 'SEA'): 0,\n",
       "  ('ARI', 'SEA', 'LAR', 'SF'): 1,\n",
       "  ('ARI', 'SEA', 'SF', 'LAR'): 1,\n",
       "  ('ARI', 'SF', 'LAR', 'SEA'): 2,\n",
       "  ('ARI', 'SF', 'SEA', 'LAR'): 2,\n",
       "  ('LAR', 'ARI', 'SEA', 'SF'): 1,\n",
       "  ('LAR', 'ARI', 'SF', 'SEA'): 0,\n",
       "  ('LAR', 'SEA', 'ARI', 'SF'): 2,\n",
       "  ('LAR', 'SEA', 'SF', 'ARI'): 1,\n",
       "  ('LAR', 'SF', 'ARI', 'SEA'): 2,\n",
       "  ('LAR', 'SF', 'SEA', 'ARI'): 3,\n",
       "  ('SEA', 'ARI', 'LAR', 'SF'): 0,\n",
       "  ('SEA', 'ARI', 'SF', 'LAR'): 1,\n",
       "  ('SEA', 'LAR', 'ARI', 'SF'): 0,\n",
       "  ('SEA', 'LAR', 'SF', 'ARI'): 0,\n",
       "  ('SEA', 'SF', 'ARI', 'LAR'): 1,\n",
       "  ('SEA', 'SF', 'LAR', 'ARI'): 1,\n",
       "  ('SF', 'ARI', 'LAR', 'SEA'): 1,\n",
       "  ('SF', 'ARI', 'SEA', 'LAR'): 3,\n",
       "  ('SF', 'LAR', 'ARI', 'SEA'): 3,\n",
       "  ('SF', 'LAR', 'SEA', 'ARI'): 3,\n",
       "  ('SF', 'SEA', 'ARI', 'LAR'): 1,\n",
       "  ('SF', 'SEA', 'LAR', 'ARI'): 2}}"
      ]
     },
     "execution_count": 13,
     "metadata": {},
     "output_type": "execute_result"
    }
   ],
   "source": [
    "rank_dict"
   ]
  },
  {
   "cell_type": "code",
   "execution_count": 14,
   "id": "2c76944b",
   "metadata": {},
   "outputs": [],
   "source": [
    "def prob_to_odds(p):\n",
    "    if p < .000001:\n",
    "        return \"NA\"\n",
    "    if p > 0.5:\n",
    "        x = 100*p/(p-1)\n",
    "        return f\"{x:.0f}\"\n",
    "    elif p <= 0.5:\n",
    "        x = 100*(1-p)/p\n",
    "        return f\"+{x:.0f}\""
   ]
  },
  {
   "cell_type": "code",
   "execution_count": 18,
   "id": "b7bf6d59",
   "metadata": {},
   "outputs": [
    {
     "data": {
      "text/plain": [
       "12"
      ]
     },
     "execution_count": 18,
     "metadata": {},
     "output_type": "execute_result"
    }
   ],
   "source": [
    "stand.standings.loc[\"BUF\",\"Wins\"]"
   ]
  },
  {
   "cell_type": "code",
   "execution_count": null,
   "id": "cb1a3f33",
   "metadata": {},
   "outputs": [],
   "source": []
  }
 ],
 "metadata": {
  "kernelspec": {
   "display_name": "Python 3 (ipykernel)",
   "language": "python",
   "name": "python3"
  },
  "language_info": {
   "codemirror_mode": {
    "name": "ipython",
    "version": 3
   },
   "file_extension": ".py",
   "mimetype": "text/x-python",
   "name": "python",
   "nbconvert_exporter": "python",
   "pygments_lexer": "ipython3",
   "version": "3.8.10"
  }
 },
 "nbformat": 4,
 "nbformat_minor": 5
}
