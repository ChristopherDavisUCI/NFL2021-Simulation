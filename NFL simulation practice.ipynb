{
 "cells": [
  {
   "cell_type": "code",
   "execution_count": 1,
   "id": "f5dedb4d",
   "metadata": {},
   "outputs": [],
   "source": [
    "import numpy as np\n",
    "from numpy.random import default_rng\n",
    "import pandas as pd\n",
    "from make_standings import Standings\n",
    "from make_charts import make_playoff_charts, make_win_charts\n",
    "from itertools import permutations\n",
    "import time\n",
    "import base64"
   ]
  },
  {
   "cell_type": "code",
   "execution_count": 6,
   "id": "fee7a408",
   "metadata": {},
   "outputs": [],
   "source": [
    "df = pd.read_csv(\"schedules/schedule21.csv\")\n",
    "pr_both = pd.read_csv(\"data/pr_both.csv\",squeeze=True,index_col=\"Side\")\n",
    "div_series = pd.read_csv(\"data/divisions.csv\",squeeze=True,index_col=0)\n",
    "teams = sorted(list(set(df.team_home)))\n",
    "conf_teams = {}\n",
    "for conf in [\"AFC\",\"NFC\"]:\n",
    "    conf_teams[conf] = [t for t in teams if div_series[t][:3]==conf]\n",
    "rng = np.random.default_rng()"
   ]
  },
  {
   "cell_type": "code",
   "execution_count": 12,
   "id": "e4cbbfa6",
   "metadata": {},
   "outputs": [
    {
     "data": {
      "text/plain": [
       "True"
      ]
     },
     "execution_count": 12,
     "metadata": {},
     "output_type": "execute_result"
    }
   ],
   "source": [
    "\"ARI_Off\" in pr_both.keys()"
   ]
  },
  {
   "cell_type": "code",
   "execution_count": 10,
   "id": "1a959d14",
   "metadata": {},
   "outputs": [
    {
     "data": {
      "text/plain": [
       "Index(['ARI_Off', 'ATL_Off', 'BAL_Off', 'BUF_Off', 'CAR_Off', 'CHI_Off',\n",
       "       'CIN_Off', 'CLE_Off', 'DAL_Off', 'DEN_Off', 'DET_Off', 'GB_Off',\n",
       "       'HOU_Off', 'IND_Off', 'JAX_Off', 'KC_Off', 'LAC_Off', 'LAR_Off',\n",
       "       'LVR_Off', 'MIA_Off', 'MIN_Off', 'NE_Off', 'NO_Off', 'NYG_Off',\n",
       "       'NYJ_Off', 'PHI_Off', 'PIT_Off', 'SEA_Off', 'SF_Off', 'TB_Off',\n",
       "       'TEN_Off', 'WAS_Off', 'ARI_Def', 'ATL_Def', 'BAL_Def', 'BUF_Def',\n",
       "       'CAR_Def', 'CHI_Def', 'CIN_Def', 'CLE_Def', 'DAL_Def', 'DEN_Def',\n",
       "       'DET_Def', 'GB_Def', 'HOU_Def', 'IND_Def', 'JAX_Def', 'KC_Def',\n",
       "       'LAC_Def', 'LAR_Def', 'LVR_Def', 'MIA_Def', 'MIN_Def', 'NE_Def',\n",
       "       'NO_Def', 'NYG_Def', 'NYJ_Def', 'PHI_Def', 'PIT_Def', 'SEA_Def',\n",
       "       'SF_Def', 'TB_Def', 'TEN_Def', 'WAS_Def', 'HFA', 'mean_score'],\n",
       "      dtype='object', name='Side')"
      ]
     },
     "execution_count": 10,
     "metadata": {},
     "output_type": "execute_result"
    }
   ],
   "source": [
    "pr_both.keys()"
   ]
  },
  {
   "cell_type": "code",
   "execution_count": 8,
   "id": "1b65b796",
   "metadata": {},
   "outputs": [
    {
     "data": {
      "text/plain": [
       "ARI     NFC West\n",
       "ATL    NFC South\n",
       "BAL    AFC North\n",
       "BUF     AFC East\n",
       "CAR    NFC South\n",
       "CHI    NFC North\n",
       "CIN    AFC North\n",
       "CLE    AFC North\n",
       "DAL     NFC East\n",
       "DEN     AFC West\n",
       "DET    NFC North\n",
       "GB     NFC North\n",
       "HOU    AFC South\n",
       "IND    AFC South\n",
       "JAX    AFC South\n",
       "KC      AFC West\n",
       "LAC     AFC West\n",
       "LAR     NFC West\n",
       "LVR     AFC West\n",
       "MIA     AFC East\n",
       "MIN    NFC North\n",
       "NE      AFC East\n",
       "NO     NFC South\n",
       "NYG     NFC East\n",
       "NYJ     AFC East\n",
       "PHI     NFC East\n",
       "PIT    AFC North\n",
       "SEA     NFC West\n",
       "SF      NFC West\n",
       "TB     NFC South\n",
       "TEN    AFC South\n",
       "WAS     NFC East\n",
       "Name: 0, dtype: object"
      ]
     },
     "execution_count": 8,
     "metadata": {},
     "output_type": "execute_result"
    }
   ],
   "source": [
    "div_series"
   ]
  },
  {
   "cell_type": "code",
   "execution_count": 7,
   "id": "c37dfe6e",
   "metadata": {},
   "outputs": [],
   "source": [
    "def simulate_reg_season(df):\n",
    "    df.loc[:,[\"score_home\",\"score_away\"]] = rng.normal(df[[\"mean_home\",\"mean_away\"]],10)\n",
    "    df.loc[:,[\"score_home\",\"score_away\"]] = df.loc[:,[\"score_home\",\"score_away\"]].astype(int)\n",
    "    adjust_ties(df)\n",
    "    return None\n",
    "\n",
    "def adjust_ties(df):\n",
    "    tied_games = df.loc[df.score_home == df.score_away,[\"score_home\",\"score_away\"]].copy()\n",
    "    x = rng.normal(size=len(tied_games))\n",
    "    tied_games.iloc[np.where((x > -1.6) & (x < 0))[0]] += (0,3)\n",
    "    tied_games.iloc[np.where(x >= 0)[0]] += (3,0)\n",
    "    df.loc[tied_games.index,[\"score_home\",\"score_away\"]] = tied_games\n",
    "    return None"
   ]
  },
  {
   "cell_type": "code",
   "execution_count": null,
   "id": "e805937b",
   "metadata": {},
   "outputs": [],
   "source": [
    "df[\"pr_home_Off\"] = df.team_home.map(lambda s: pr_both[s+\"_Off\"])\n",
    "df[\"pr_home_Def\"] = df.team_home.map(lambda s: pr_both[s+\"_Def\"])\n",
    "df[\"pr_away_Off\"] = df.team_away.map(lambda s: pr_both[s+\"_Off\"])\n",
    "df[\"pr_away_Def\"] = df.team_away.map(lambda s: pr_both[s+\"_Def\"])\n",
    "df[\"mean_home\"] = df[\"pr_home_Off\"]-df[\"pr_away_Def\"]+pr_both[\"mean_score\"]+pr_both[\"HFA\"]/2\n",
    "df[\"mean_away\"] = df[\"pr_away_Off\"]-df[\"pr_home_Def\"]+pr_both[\"mean_score\"]-pr_both[\"HFA\"]/2"
   ]
  },
  {
   "cell_type": "code",
   "execution_count": null,
   "id": "86ed2848",
   "metadata": {},
   "outputs": [],
   "source": [
    "total_dict = {}\n",
    "\n",
    "win_dict = {t:{i:0 for i in range(18)} for t in teams}\n",
    "for conf in [\"AFC\",\"NFC\"]:\n",
    "    total_dict[conf] = {i:{t:0 for t in sorted(conf_teams[conf])} for i in range(1,8)}"
   ]
  },
  {
   "cell_type": "code",
   "execution_count": null,
   "id": "a40cbbfa",
   "metadata": {},
   "outputs": [],
   "source": [
    "div_dict = {}\n",
    "\n",
    "s = div_series\n",
    "for a,b in s.groupby(s):\n",
    "    div_dict[a] = list(b.index)\n",
    "\n",
    "rank_dict = {div:{} for div in div_dict.keys()}\n",
    "\n",
    "for div in rank_dict.keys():\n",
    "    for team_sort in permutations(div_dict[div]):\n",
    "        rank_dict[div][team_sort] = 0"
   ]
  },
  {
   "cell_type": "code",
   "execution_count": null,
   "id": "72162c2b",
   "metadata": {},
   "outputs": [],
   "source": [
    "reps = 30\n",
    "\n",
    "start = time.time()\n",
    "\n",
    "for i in range(reps):\n",
    "    simulate_reg_season(df)\n",
    "    stand = Standings(df)\n",
    "    s = stand.standings\n",
    "    s_dict = dict(zip(s.index,s.Wins))\n",
    "    for t,w in s_dict.items():\n",
    "        win_dict[t][w] += 1\n",
    "    for d in rank_dict.keys():\n",
    "        rank_dict[d][tuple(stand.div_ranks[d])] += 1\n",
    "    p = stand.playoffs\n",
    "    for conf in [\"AFC\",\"NFC\"]:\n",
    "        for j,t in enumerate(p[conf]):\n",
    "            total_dict[conf][j+1][t] += 1\n",
    "\n",
    "end = time.time()"
   ]
  },
  {
   "cell_type": "code",
   "execution_count": null,
   "id": "d26d2649",
   "metadata": {},
   "outputs": [],
   "source": []
  },
  {
   "cell_type": "code",
   "execution_count": null,
   "id": "81e45652",
   "metadata": {},
   "outputs": [],
   "source": [
    "stand.div_ranks"
   ]
  },
  {
   "cell_type": "code",
   "execution_count": null,
   "id": "e8f01475",
   "metadata": {},
   "outputs": [],
   "source": [
    "\n",
    "            \n",
    "for div in stand.div_ranks.keys():\n",
    "            rank_dict[div][tuple(stand.div_ranks[div])] += 1"
   ]
  },
  {
   "cell_type": "code",
   "execution_count": null,
   "id": "63ab950b",
   "metadata": {},
   "outputs": [],
   "source": [
    "rank_dict"
   ]
  },
  {
   "cell_type": "code",
   "execution_count": null,
   "id": "2c76944b",
   "metadata": {},
   "outputs": [],
   "source": [
    "def prob_to_odds(p):\n",
    "    if p < .000001:\n",
    "        return \"NA\"\n",
    "    if p > 0.5:\n",
    "        x = 100*p/(p-1)\n",
    "        return f\"{x:.0f}\"\n",
    "    elif p <= 0.5:\n",
    "        x = 100*(1-p)/p\n",
    "        return f\"+{x:.0f}\""
   ]
  },
  {
   "cell_type": "code",
   "execution_count": null,
   "id": "b7706252",
   "metadata": {},
   "outputs": [],
   "source": [
    "prob_to_odds(0)"
   ]
  },
  {
   "cell_type": "code",
   "execution_count": null,
   "id": "4f8c36ed",
   "metadata": {},
   "outputs": [],
   "source": []
  },
  {
   "cell_type": "code",
   "execution_count": null,
   "id": "8bbb1f44",
   "metadata": {},
   "outputs": [],
   "source": [
    "color_dict = {\"blue\": \"#5778a4\", \"orange\": \"#e49444\", \"red\": \"#d1615d\", \"teal\": \"#85b6b2\", \"green\": \"#6a9f58\", \"yellow\": \"#e7ca60\", \"purple\": \"#a87c9f\",}\n",
    "\n",
    "chart_dict = {}\n",
    "\n",
    "for conf in [\"AFC\",\"NFC\"]:\n",
    "\n",
    "    playoff_dicts = total_dict[conf]\n",
    "\n",
    "    source = pd.DataFrame([(k,t,playoff_dicts[k][t]/reps) for k in playoff_dicts.keys() for t in conf_teams[conf]],\n",
    "        columns = [\"Seed\",\"Team\",\"Proportion\"])\n",
    "\n",
    "    for a,b in source.groupby(\"Team\"):\n",
    "        source.loc[source[\"Team\"] == a, \"Make playoffs\"] = b.Proportion.sum()\n",
    "        source.loc[source[\"Team\"] == a,\"Equal or better\"] = b.Proportion.cumsum()\n",
    "\n",
    "    #source[\"Equal or better\"] += source[\"Proportion\"]\n",
    "\n",
    "    ordering = sorted(conf_teams[conf],key=lambda t: sum([playoff_dicts[i][t] for i in playoff_dicts.keys()]),reverse=True)\n",
    "    ordering_seeds = list(range(7,0,-1))\n",
    "\n",
    "\n",
    "    c = alt.Chart(source).mark_bar().encode(\n",
    "        x=alt.X('Team',sort = ordering),\n",
    "        y=alt.Y('Proportion',scale=alt.Scale(domain=[0,1]),sort=ordering_seeds),\n",
    "        tooltip = [alt.Tooltip('Team'),alt.Tooltip('Seed', format=\".0f\"), alt.Tooltip('Proportion', format=\".3f\"),\n",
    "                            alt.Tooltip('Equal or better', format=\".3f\"),alt.Tooltip('Make playoffs', format=\".3f\")],\n",
    "        color=alt.Color('Seed:N', scale=alt.Scale(domain=[7,6,5,4,3,2,1],range=[color_dict[color] for color in [\"purple\",\"yellow\",\"green\",\"teal\",\"red\",\"orange\",\"blue\"]])),\n",
    "        order=alt.Order(\n",
    "                'Seed:N',\n",
    "                sort='ascending'\n",
    "            )\n",
    "    ).properties(\n",
    "        title=f\"{conf} playoff seedings\",\n",
    "        width=500,\n",
    "        height=500,\n",
    "    )\n",
    "\n",
    "    chart_dict[conf] = c\n",
    "\n",
    "playoff_charts = alt.hconcat(*chart_dict.values()).resolve_scale(\n",
    "    color='independent'\n",
    ").properties(\n",
    "    title=f\"Based on {reps} simulations:\"\n",
    ")"
   ]
  },
  {
   "cell_type": "code",
   "execution_count": null,
   "id": "f3a86baf",
   "metadata": {},
   "outputs": [],
   "source": [
    "odds_dict = {\"Proportion\":\"Odds\", \"Make playoffs\": \"Odds to make playoffs\", \"Equal or better\":\"Odds of equal or better\"}"
   ]
  },
  {
   "cell_type": "code",
   "execution_count": null,
   "id": "53a23fd5",
   "metadata": {},
   "outputs": [],
   "source": [
    "for c in odds_dict.keys():\n",
    "    source[odds_dict[c]] = source[c].map(prob_to_odds)"
   ]
  },
  {
   "cell_type": "code",
   "execution_count": null,
   "id": "7edcb625",
   "metadata": {},
   "outputs": [],
   "source": [
    "alt.Chart(source).mark_point().encode(\n",
    "    x = \"Proportion\",\n",
    "    y = \"Make playoffs\",\n",
    "    tooltip = [alt.Tooltip(\"x:N\",title=\"chris\"),\"y:N\"],\n",
    ").transform_calculate(\n",
    "    x=\"format(datum.Proportion, ',.3f')+' (' +datum.Odds+')'\",\n",
    ")"
   ]
  },
  {
   "cell_type": "code",
   "execution_count": null,
   "id": "7d7d466b",
   "metadata": {},
   "outputs": [],
   "source": [
    "source[\"Odds\"]"
   ]
  },
  {
   "cell_type": "code",
   "execution_count": null,
   "id": "c25cd57c",
   "metadata": {},
   "outputs": [],
   "source": [
    "playoff_charts"
   ]
  },
  {
   "cell_type": "code",
   "execution_count": null,
   "id": "611eee9f",
   "metadata": {},
   "outputs": [],
   "source": [
    "game_list = [\"Mette\", \"Damir\", \"Amra\", \"Marie\", \"Chris\"]"
   ]
  },
  {
   "cell_type": "code",
   "execution_count": null,
   "id": "1ed7d022",
   "metadata": {},
   "outputs": [],
   "source": [
    "import numpy as np\n",
    "rng = np.random.default_rng()\n",
    "rng.permutation(game_list)"
   ]
  },
  {
   "cell_type": "code",
   "execution_count": null,
   "id": "6e0fcbb3",
   "metadata": {},
   "outputs": [],
   "source": []
  },
  {
   "cell_type": "code",
   "execution_count": null,
   "id": "e143b6ff",
   "metadata": {},
   "outputs": [],
   "source": [
    "series = df.apply(lambda row: rng.permutation(game_list), axis=1)"
   ]
  },
  {
   "cell_type": "code",
   "execution_count": null,
   "id": "7b07d596",
   "metadata": {},
   "outputs": [],
   "source": []
  },
  {
   "cell_type": "code",
   "execution_count": null,
   "id": "00198105",
   "metadata": {},
   "outputs": [],
   "source": [
    "df"
   ]
  },
  {
   "cell_type": "code",
   "execution_count": null,
   "id": "615ffbf7",
   "metadata": {},
   "outputs": [],
   "source": [
    "def highlight_cols(s):\n",
    "    color = 'yellow'\n",
    "    return 'background-color: %s' % color"
   ]
  },
  {
   "cell_type": "code",
   "execution_count": null,
   "id": "7dae1bb2",
   "metadata": {},
   "outputs": [],
   "source": [
    "df = pd.DataFrame(index=range(10**2),columns = range(5))\n",
    "for i in range(len(df)):\n",
    "    df.loc[i] = rng.permutation(game_list)\n",
    "df = df.style.applymap(highlight_cols, subset=pd.IndexSlice[:, 0:2])"
   ]
  },
  {
   "cell_type": "code",
   "execution_count": null,
   "id": "ff905d3a",
   "metadata": {},
   "outputs": [],
   "source": [
    "df"
   ]
  },
  {
   "cell_type": "code",
   "execution_count": null,
   "id": "0841752c",
   "metadata": {},
   "outputs": [],
   "source": [
    "df.data = df.data.iloc[2:10]"
   ]
  },
  {
   "cell_type": "code",
   "execution_count": null,
   "id": "6888d009",
   "metadata": {},
   "outputs": [],
   "source": [
    "df"
   ]
  },
  {
   "cell_type": "code",
   "execution_count": null,
   "id": "b7bf6d59",
   "metadata": {},
   "outputs": [],
   "source": []
  }
 ],
 "metadata": {
  "kernelspec": {
   "display_name": "Python 3 (ipykernel)",
   "language": "python",
   "name": "python3"
  },
  "language_info": {
   "codemirror_mode": {
    "name": "ipython",
    "version": 3
   },
   "file_extension": ".py",
   "mimetype": "text/x-python",
   "name": "python",
   "nbconvert_exporter": "python",
   "pygments_lexer": "ipython3",
   "version": "3.8.10"
  }
 },
 "nbformat": 4,
 "nbformat_minor": 5
}
